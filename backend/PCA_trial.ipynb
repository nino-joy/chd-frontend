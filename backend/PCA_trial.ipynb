{
 "cells": [
  {
   "cell_type": "code",
   "execution_count": 48,
   "id": "bd794a6c",
   "metadata": {},
   "outputs": [],
   "source": [
    "import matplotlib.pyplot as plt\n",
    "import numpy as np\n",
    "import pandas as pd\n",
    "from sklearn.decomposition import PCA\n",
    "from sklearn import preprocessing\n",
    "import matplotlib.pyplot as plt\n",
    "%matplotlib inline"
   ]
  },
  {
   "cell_type": "code",
   "execution_count": 49,
   "id": "0a73d29e",
   "metadata": {},
   "outputs": [
    {
     "data": {
      "text/plain": [
       "Index(['age', 'HE_sbp', 'HE_wc', 'HE_BMI', 'HE_chol', 'HE_HDL_st2', 'N_FAT'], dtype='object')"
      ]
     },
     "execution_count": 49,
     "metadata": {},
     "output_type": "execute_result"
    }
   ],
   "source": [
    "dset = pd.read_csv ('new.csv')\n",
    "dset.keys()"
   ]
  },
  {
   "cell_type": "code",
   "execution_count": 50,
   "id": "e87866d4",
   "metadata": {},
   "outputs": [
    {
     "data": {
      "text/html": [
       "<div>\n",
       "<style scoped>\n",
       "    .dataframe tbody tr th:only-of-type {\n",
       "        vertical-align: middle;\n",
       "    }\n",
       "\n",
       "    .dataframe tbody tr th {\n",
       "        vertical-align: top;\n",
       "    }\n",
       "\n",
       "    .dataframe thead th {\n",
       "        text-align: right;\n",
       "    }\n",
       "</style>\n",
       "<table border=\"1\" class=\"dataframe\">\n",
       "  <thead>\n",
       "    <tr style=\"text-align: right;\">\n",
       "      <th></th>\n",
       "      <th>age</th>\n",
       "      <th>HE_sbp</th>\n",
       "      <th>HE_wc</th>\n",
       "      <th>HE_BMI</th>\n",
       "      <th>HE_chol</th>\n",
       "      <th>HE_HDL_st2</th>\n",
       "      <th>N_FAT</th>\n",
       "    </tr>\n",
       "  </thead>\n",
       "  <tbody>\n",
       "    <tr>\n",
       "      <th>0</th>\n",
       "      <td>30</td>\n",
       "      <td>104</td>\n",
       "      <td>81.9</td>\n",
       "      <td>28.9398577909837</td>\n",
       "      <td>184</td>\n",
       "      <td>51.552</td>\n",
       "      <td>57.7223486977762</td>\n",
       "    </tr>\n",
       "    <tr>\n",
       "      <th>1</th>\n",
       "      <td>56</td>\n",
       "      <td>116</td>\n",
       "      <td>84</td>\n",
       "      <td>28.4007126790205</td>\n",
       "      <td>NaN</td>\n",
       "      <td>NaN</td>\n",
       "      <td>48.9471946015806</td>\n",
       "    </tr>\n",
       "    <tr>\n",
       "      <th>2</th>\n",
       "      <td>29</td>\n",
       "      <td>131</td>\n",
       "      <td>85.5</td>\n",
       "      <td>28.6597082714648</td>\n",
       "      <td>191</td>\n",
       "      <td>43.936</td>\n",
       "      <td>100.764834735342</td>\n",
       "    </tr>\n",
       "    <tr>\n",
       "      <th>3</th>\n",
       "      <td>65</td>\n",
       "      <td>132</td>\n",
       "      <td>71</td>\n",
       "      <td>20.1882379149031</td>\n",
       "      <td>133</td>\n",
       "      <td>30.608</td>\n",
       "      <td>39.5014208507789</td>\n",
       "    </tr>\n",
       "    <tr>\n",
       "      <th>4</th>\n",
       "      <td>57</td>\n",
       "      <td>113</td>\n",
       "      <td>63.3</td>\n",
       "      <td>19.4215435985507</td>\n",
       "      <td>168</td>\n",
       "      <td>46.792</td>\n",
       "      <td>NaN</td>\n",
       "    </tr>\n",
       "    <tr>\n",
       "      <th>...</th>\n",
       "      <td>...</td>\n",
       "      <td>...</td>\n",
       "      <td>...</td>\n",
       "      <td>...</td>\n",
       "      <td>...</td>\n",
       "      <td>...</td>\n",
       "      <td>...</td>\n",
       "    </tr>\n",
       "    <tr>\n",
       "      <th>7545</th>\n",
       "      <td>30</td>\n",
       "      <td>132</td>\n",
       "      <td>103.1</td>\n",
       "      <td>29.5073251417769</td>\n",
       "      <td>181</td>\n",
       "      <td>60.12</td>\n",
       "      <td>20.0093110656924</td>\n",
       "    </tr>\n",
       "    <tr>\n",
       "      <th>7546</th>\n",
       "      <td>55</td>\n",
       "      <td>122</td>\n",
       "      <td>96.3</td>\n",
       "      <td>28.4453713327845</td>\n",
       "      <td>225</td>\n",
       "      <td>61.072</td>\n",
       "      <td>15.5394723269073</td>\n",
       "    </tr>\n",
       "    <tr>\n",
       "      <th>7547</th>\n",
       "      <td>58</td>\n",
       "      <td>151</td>\n",
       "      <td>111</td>\n",
       "      <td>31.8538712257376</td>\n",
       "      <td>201</td>\n",
       "      <td>47.744</td>\n",
       "      <td>13.1507548420675</td>\n",
       "    </tr>\n",
       "    <tr>\n",
       "      <th>7548</th>\n",
       "      <td>63</td>\n",
       "      <td>141</td>\n",
       "      <td>84.2</td>\n",
       "      <td>25.0715776569083</td>\n",
       "      <td>189</td>\n",
       "      <td>64.88</td>\n",
       "      <td>71.4495547027698</td>\n",
       "    </tr>\n",
       "    <tr>\n",
       "      <th>7549</th>\n",
       "      <td>71</td>\n",
       "      <td>162</td>\n",
       "      <td>95.1</td>\n",
       "      <td>26.6766697951351</td>\n",
       "      <td>161</td>\n",
       "      <td>37.272</td>\n",
       "      <td>59.8136551723254</td>\n",
       "    </tr>\n",
       "  </tbody>\n",
       "</table>\n",
       "<p>7550 rows × 7 columns</p>\n",
       "</div>"
      ],
      "text/plain": [
       "      age HE_sbp  HE_wc            HE_BMI HE_chol HE_HDL_st2             N_FAT\n",
       "0      30    104   81.9  28.9398577909837     184     51.552  57.7223486977762\n",
       "1      56    116     84  28.4007126790205     NaN        NaN  48.9471946015806\n",
       "2      29    131   85.5  28.6597082714648     191     43.936  100.764834735342\n",
       "3      65    132     71  20.1882379149031     133     30.608  39.5014208507789\n",
       "4      57    113   63.3  19.4215435985507     168     46.792               NaN\n",
       "...   ...    ...    ...               ...     ...        ...               ...\n",
       "7545   30    132  103.1  29.5073251417769     181      60.12  20.0093110656924\n",
       "7546   55    122   96.3  28.4453713327845     225     61.072  15.5394723269073\n",
       "7547   58    151    111  31.8538712257376     201     47.744  13.1507548420675\n",
       "7548   63    141   84.2  25.0715776569083     189      64.88  71.4495547027698\n",
       "7549   71    162   95.1  26.6766697951351     161     37.272  59.8136551723254\n",
       "\n",
       "[7550 rows x 7 columns]"
      ]
     },
     "execution_count": 50,
     "metadata": {},
     "output_type": "execute_result"
    }
   ],
   "source": [
    "df=pd.DataFrame(dset)\n",
    "df=df.replace(' ', np.NaN)\n",
    "df\n"
   ]
  },
  {
   "cell_type": "code",
   "execution_count": 51,
   "id": "92ee48ea",
   "metadata": {},
   "outputs": [],
   "source": [
    "df=df.dropna()"
   ]
  },
  {
   "cell_type": "code",
   "execution_count": 52,
   "id": "1a40348c",
   "metadata": {},
   "outputs": [
    {
     "data": {
      "text/plain": [
       "StandardScaler()"
      ]
     },
     "execution_count": 52,
     "metadata": {},
     "output_type": "execute_result"
    }
   ],
   "source": [
    "from sklearn.preprocessing import MinMaxScaler\n",
    "\n",
    "from sklearn.preprocessing import StandardScaler\n",
    "\n",
    "scaler=StandardScaler()\n",
    "scaler.fit(df)\n",
    "\n"
   ]
  },
  {
   "cell_type": "code",
   "execution_count": 53,
   "id": "48cc446f",
   "metadata": {},
   "outputs": [
    {
     "data": {
      "text/plain": [
       "array([[-0.9234382 , -0.78012281,  0.18808397, ..., -0.01036123,\n",
       "         0.02442673,  0.37802027],\n",
       "       [-0.97615518,  0.89631105,  0.53853695, ...,  0.19117552,\n",
       "        -0.62212434,  1.6033877 ],\n",
       "       [ 0.92165592,  0.95840119, -0.87300979, ..., -1.47870038,\n",
       "        -1.75358871, -0.14070747],\n",
       "       ...,\n",
       "       [ 0.55263709,  2.1381139 ,  3.02091226, ...,  0.47908515,\n",
       "        -0.29884881, -0.890879  ],\n",
       "       [ 0.81622197,  1.51721247,  0.41198449, ...,  0.13359359,\n",
       "         1.15589109,  0.76881719],\n",
       "       [ 1.23795777,  2.82110547,  1.47307824, ..., -0.67255339,\n",
       "        -1.18785652,  0.43755723]])"
      ]
     },
     "execution_count": 53,
     "metadata": {},
     "output_type": "execute_result"
    }
   ],
   "source": [
    "scaled_data=scaler.transform(df)\n",
    "\n",
    "scaled_data\n"
   ]
  },
  {
   "cell_type": "code",
   "execution_count": 54,
   "id": "b3f2ee29",
   "metadata": {},
   "outputs": [
    {
     "data": {
      "text/plain": [
       "PCA(n_components=2)"
      ]
     },
     "execution_count": 54,
     "metadata": {},
     "output_type": "execute_result"
    }
   ],
   "source": [
    "from sklearn.decomposition import PCA\n",
    "\n",
    "pca=PCA(n_components=2)\n",
    "\n",
    "pca.fit(scaled_data)\n"
   ]
  },
  {
   "cell_type": "code",
   "execution_count": 55,
   "id": "90cc36e6",
   "metadata": {},
   "outputs": [
    {
     "data": {
      "text/plain": [
       "(4910, 7)"
      ]
     },
     "execution_count": 55,
     "metadata": {},
     "output_type": "execute_result"
    }
   ],
   "source": [
    "x_pca=pca.transform(scaled_data)\n",
    "\n",
    "scaled_data.shape"
   ]
  },
  {
   "cell_type": "code",
   "execution_count": 56,
   "id": "f860702d",
   "metadata": {},
   "outputs": [
    {
     "data": {
      "text/plain": [
       "(4910, 2)"
      ]
     },
     "execution_count": 56,
     "metadata": {},
     "output_type": "execute_result"
    }
   ],
   "source": [
    "x_pca.shape"
   ]
  },
  {
   "cell_type": "code",
   "execution_count": 57,
   "id": "786ac61a",
   "metadata": {},
   "outputs": [
    {
     "data": {
      "text/plain": [
       "array([[ 0.16755471,  1.28100501],\n",
       "       [ 0.95461436,  1.89309884],\n",
       "       [-0.04539937,  0.11998183],\n",
       "       ...,\n",
       "       [ 4.24101458,  0.30795332],\n",
       "       [ 0.97953401, -0.55182231],\n",
       "       [ 2.95482148,  0.54578694]])"
      ]
     },
     "execution_count": 57,
     "metadata": {},
     "output_type": "execute_result"
    }
   ],
   "source": [
    "x_pca"
   ]
  },
  {
   "cell_type": "code",
   "execution_count": 58,
   "id": "b9b3ecf2",
   "metadata": {},
   "outputs": [],
   "source": [
    "import sklearn.decomposition.pca\n",
    "back=pca.inverse_transform(x_pca)\n"
   ]
  },
  {
   "cell_type": "code",
   "execution_count": 59,
   "id": "1c463a55",
   "metadata": {},
   "outputs": [
    {
     "data": {
      "text/plain": [
       "array([[-0.44921834, -0.57362428, -0.23779755, ...,  0.41510213,\n",
       "         0.62836915, -0.29214342],\n",
       "       [-0.55694929,  0.92947722, -0.4781406 , ...,  0.67473645,\n",
       "         0.45236539,  0.72603232],\n",
       "       [ 0.99040659,  1.00124648, -0.87943156, ..., -1.42630365,\n",
       "        -1.7127464 , -0.21324347],\n",
       "       ...,\n",
       "       [-1.00657154,  0.57161499,  0.61733005, ..., -0.28135297,\n",
       "         0.92753846, -0.38041339],\n",
       "       [ 0.19302934,  1.02363518,  0.01930534, ..., -0.26567827,\n",
       "         1.16642234,  1.22564313],\n",
       "       [ 0.29149317,  1.79974854, -0.28794413, ..., -1.08346045,\n",
       "        -0.18839191,  0.61300164]])"
      ]
     },
     "execution_count": 59,
     "metadata": {},
     "output_type": "execute_result"
    }
   ],
   "source": [
    "diff=scaled_data-back\n",
    "diff"
   ]
  },
  {
   "cell_type": "code",
   "execution_count": 61,
   "id": "962cb87b",
   "metadata": {},
   "outputs": [
    {
     "data": {
      "text/plain": [
       "0.44872807661062364"
      ]
     },
     "execution_count": 61,
     "metadata": {},
     "output_type": "execute_result"
    }
   ],
   "source": [
    "\n",
    "mse = ((scaled_data - back)**2).mean(axis=None)\n",
    "mse"
   ]
  }
 ],
 "metadata": {
  "kernelspec": {
   "display_name": "Python 3 (ipykernel)",
   "language": "python",
   "name": "python3"
  },
  "language_info": {
   "codemirror_mode": {
    "name": "ipython",
    "version": 3
   },
   "file_extension": ".py",
   "mimetype": "text/x-python",
   "name": "python",
   "nbconvert_exporter": "python",
   "pygments_lexer": "ipython3",
   "version": "3.8.10"
  }
 },
 "nbformat": 4,
 "nbformat_minor": 5
}
