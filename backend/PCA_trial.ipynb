{
 "cells": [
  {
   "cell_type": "code",
   "execution_count": 1,
   "id": "bd794a6c",
   "metadata": {},
   "outputs": [],
   "source": [
    "import matplotlib.pyplot as plt\n",
    "import numpy as np\n",
    "import pandas as pd\n",
    "from sklearn.decomposition import PCA\n",
    "from sklearn import preprocessing\n",
    "import matplotlib.pyplot as plt\n",
    "%matplotlib inline"
   ]
  },
  {
   "cell_type": "code",
   "execution_count": 2,
   "id": "0a73d29e",
   "metadata": {},
   "outputs": [
    {
     "data": {
      "text/plain": [
       "Index(['age', 'HE_sbp', 'HE_wc', 'HE_BMI', 'HE_chol', 'HE_HDL_st2', 'N_FAT'], dtype='object')"
      ]
     },
     "execution_count": 2,
     "metadata": {},
     "output_type": "execute_result"
    }
   ],
   "source": [
    "dset = pd.read_csv ('new.csv')\n",
    "dset.keys()"
   ]
  },
  {
   "cell_type": "code",
   "execution_count": 3,
   "id": "e87866d4",
   "metadata": {},
   "outputs": [
    {
     "data": {
      "text/html": [
       "<div>\n",
       "<style scoped>\n",
       "    .dataframe tbody tr th:only-of-type {\n",
       "        vertical-align: middle;\n",
       "    }\n",
       "\n",
       "    .dataframe tbody tr th {\n",
       "        vertical-align: top;\n",
       "    }\n",
       "\n",
       "    .dataframe thead th {\n",
       "        text-align: right;\n",
       "    }\n",
       "</style>\n",
       "<table border=\"1\" class=\"dataframe\">\n",
       "  <thead>\n",
       "    <tr style=\"text-align: right;\">\n",
       "      <th></th>\n",
       "      <th>age</th>\n",
       "      <th>HE_sbp</th>\n",
       "      <th>HE_wc</th>\n",
       "      <th>HE_BMI</th>\n",
       "      <th>HE_chol</th>\n",
       "      <th>HE_HDL_st2</th>\n",
       "      <th>N_FAT</th>\n",
       "    </tr>\n",
       "  </thead>\n",
       "  <tbody>\n",
       "    <tr>\n",
       "      <th>0</th>\n",
       "      <td>30</td>\n",
       "      <td>104</td>\n",
       "      <td>81.9</td>\n",
       "      <td>28.9398577909837</td>\n",
       "      <td>184</td>\n",
       "      <td>51.552</td>\n",
       "      <td>57.7223486977762</td>\n",
       "    </tr>\n",
       "    <tr>\n",
       "      <th>1</th>\n",
       "      <td>56</td>\n",
       "      <td>116</td>\n",
       "      <td>84</td>\n",
       "      <td>28.4007126790205</td>\n",
       "      <td>NaN</td>\n",
       "      <td>NaN</td>\n",
       "      <td>48.9471946015806</td>\n",
       "    </tr>\n",
       "    <tr>\n",
       "      <th>2</th>\n",
       "      <td>29</td>\n",
       "      <td>131</td>\n",
       "      <td>85.5</td>\n",
       "      <td>28.6597082714648</td>\n",
       "      <td>191</td>\n",
       "      <td>43.936</td>\n",
       "      <td>100.764834735342</td>\n",
       "    </tr>\n",
       "    <tr>\n",
       "      <th>3</th>\n",
       "      <td>65</td>\n",
       "      <td>132</td>\n",
       "      <td>71</td>\n",
       "      <td>20.1882379149031</td>\n",
       "      <td>133</td>\n",
       "      <td>30.608</td>\n",
       "      <td>39.5014208507789</td>\n",
       "    </tr>\n",
       "    <tr>\n",
       "      <th>4</th>\n",
       "      <td>57</td>\n",
       "      <td>113</td>\n",
       "      <td>63.3</td>\n",
       "      <td>19.4215435985507</td>\n",
       "      <td>168</td>\n",
       "      <td>46.792</td>\n",
       "      <td>NaN</td>\n",
       "    </tr>\n",
       "    <tr>\n",
       "      <th>...</th>\n",
       "      <td>...</td>\n",
       "      <td>...</td>\n",
       "      <td>...</td>\n",
       "      <td>...</td>\n",
       "      <td>...</td>\n",
       "      <td>...</td>\n",
       "      <td>...</td>\n",
       "    </tr>\n",
       "    <tr>\n",
       "      <th>7545</th>\n",
       "      <td>30</td>\n",
       "      <td>132</td>\n",
       "      <td>103.1</td>\n",
       "      <td>29.5073251417769</td>\n",
       "      <td>181</td>\n",
       "      <td>60.12</td>\n",
       "      <td>20.0093110656924</td>\n",
       "    </tr>\n",
       "    <tr>\n",
       "      <th>7546</th>\n",
       "      <td>55</td>\n",
       "      <td>122</td>\n",
       "      <td>96.3</td>\n",
       "      <td>28.4453713327845</td>\n",
       "      <td>225</td>\n",
       "      <td>61.072</td>\n",
       "      <td>15.5394723269073</td>\n",
       "    </tr>\n",
       "    <tr>\n",
       "      <th>7547</th>\n",
       "      <td>58</td>\n",
       "      <td>151</td>\n",
       "      <td>111</td>\n",
       "      <td>31.8538712257376</td>\n",
       "      <td>201</td>\n",
       "      <td>47.744</td>\n",
       "      <td>13.1507548420675</td>\n",
       "    </tr>\n",
       "    <tr>\n",
       "      <th>7548</th>\n",
       "      <td>63</td>\n",
       "      <td>141</td>\n",
       "      <td>84.2</td>\n",
       "      <td>25.0715776569083</td>\n",
       "      <td>189</td>\n",
       "      <td>64.88</td>\n",
       "      <td>71.4495547027698</td>\n",
       "    </tr>\n",
       "    <tr>\n",
       "      <th>7549</th>\n",
       "      <td>71</td>\n",
       "      <td>162</td>\n",
       "      <td>95.1</td>\n",
       "      <td>26.6766697951351</td>\n",
       "      <td>161</td>\n",
       "      <td>37.272</td>\n",
       "      <td>59.8136551723254</td>\n",
       "    </tr>\n",
       "  </tbody>\n",
       "</table>\n",
       "<p>7550 rows × 7 columns</p>\n",
       "</div>"
      ],
      "text/plain": [
       "      age HE_sbp  HE_wc            HE_BMI HE_chol HE_HDL_st2             N_FAT\n",
       "0      30    104   81.9  28.9398577909837     184     51.552  57.7223486977762\n",
       "1      56    116     84  28.4007126790205     NaN        NaN  48.9471946015806\n",
       "2      29    131   85.5  28.6597082714648     191     43.936  100.764834735342\n",
       "3      65    132     71  20.1882379149031     133     30.608  39.5014208507789\n",
       "4      57    113   63.3  19.4215435985507     168     46.792               NaN\n",
       "...   ...    ...    ...               ...     ...        ...               ...\n",
       "7545   30    132  103.1  29.5073251417769     181      60.12  20.0093110656924\n",
       "7546   55    122   96.3  28.4453713327845     225     61.072  15.5394723269073\n",
       "7547   58    151    111  31.8538712257376     201     47.744  13.1507548420675\n",
       "7548   63    141   84.2  25.0715776569083     189      64.88  71.4495547027698\n",
       "7549   71    162   95.1  26.6766697951351     161     37.272  59.8136551723254\n",
       "\n",
       "[7550 rows x 7 columns]"
      ]
     },
     "execution_count": 3,
     "metadata": {},
     "output_type": "execute_result"
    }
   ],
   "source": [
    "df=pd.DataFrame(dset)\n",
    "df=df.replace(' ', np.NaN)\n",
    "df\n"
   ]
  },
  {
   "cell_type": "code",
   "execution_count": 4,
   "id": "92ee48ea",
   "metadata": {},
   "outputs": [
    {
     "data": {
      "text/html": [
       "<div>\n",
       "<style scoped>\n",
       "    .dataframe tbody tr th:only-of-type {\n",
       "        vertical-align: middle;\n",
       "    }\n",
       "\n",
       "    .dataframe tbody tr th {\n",
       "        vertical-align: top;\n",
       "    }\n",
       "\n",
       "    .dataframe thead th {\n",
       "        text-align: right;\n",
       "    }\n",
       "</style>\n",
       "<table border=\"1\" class=\"dataframe\">\n",
       "  <thead>\n",
       "    <tr style=\"text-align: right;\">\n",
       "      <th></th>\n",
       "      <th>age</th>\n",
       "      <th>HE_sbp</th>\n",
       "      <th>HE_wc</th>\n",
       "      <th>HE_BMI</th>\n",
       "      <th>HE_chol</th>\n",
       "      <th>HE_HDL_st2</th>\n",
       "      <th>N_FAT</th>\n",
       "    </tr>\n",
       "  </thead>\n",
       "  <tbody>\n",
       "    <tr>\n",
       "      <th>0</th>\n",
       "      <td>30</td>\n",
       "      <td>104</td>\n",
       "      <td>81.9</td>\n",
       "      <td>28.9398577909837</td>\n",
       "      <td>184</td>\n",
       "      <td>51.552</td>\n",
       "      <td>57.7223486977762</td>\n",
       "    </tr>\n",
       "    <tr>\n",
       "      <th>2</th>\n",
       "      <td>29</td>\n",
       "      <td>131</td>\n",
       "      <td>85.5</td>\n",
       "      <td>28.6597082714648</td>\n",
       "      <td>191</td>\n",
       "      <td>43.936</td>\n",
       "      <td>100.764834735342</td>\n",
       "    </tr>\n",
       "    <tr>\n",
       "      <th>3</th>\n",
       "      <td>65</td>\n",
       "      <td>132</td>\n",
       "      <td>71</td>\n",
       "      <td>20.1882379149031</td>\n",
       "      <td>133</td>\n",
       "      <td>30.608</td>\n",
       "      <td>39.5014208507789</td>\n",
       "    </tr>\n",
       "    <tr>\n",
       "      <th>5</th>\n",
       "      <td>66</td>\n",
       "      <td>116</td>\n",
       "      <td>84</td>\n",
       "      <td>24.1459086723119</td>\n",
       "      <td>148</td>\n",
       "      <td>33.464</td>\n",
       "      <td>28.6307108102753</td>\n",
       "    </tr>\n",
       "    <tr>\n",
       "      <th>7</th>\n",
       "      <td>15</td>\n",
       "      <td>111</td>\n",
       "      <td>79.3</td>\n",
       "      <td>25.700574777227</td>\n",
       "      <td>182</td>\n",
       "      <td>50.6</td>\n",
       "      <td>25.1141498111477</td>\n",
       "    </tr>\n",
       "    <tr>\n",
       "      <th>...</th>\n",
       "      <td>...</td>\n",
       "      <td>...</td>\n",
       "      <td>...</td>\n",
       "      <td>...</td>\n",
       "      <td>...</td>\n",
       "      <td>...</td>\n",
       "      <td>...</td>\n",
       "    </tr>\n",
       "    <tr>\n",
       "      <th>7545</th>\n",
       "      <td>30</td>\n",
       "      <td>132</td>\n",
       "      <td>103.1</td>\n",
       "      <td>29.5073251417769</td>\n",
       "      <td>181</td>\n",
       "      <td>60.12</td>\n",
       "      <td>20.0093110656924</td>\n",
       "    </tr>\n",
       "    <tr>\n",
       "      <th>7546</th>\n",
       "      <td>55</td>\n",
       "      <td>122</td>\n",
       "      <td>96.3</td>\n",
       "      <td>28.4453713327845</td>\n",
       "      <td>225</td>\n",
       "      <td>61.072</td>\n",
       "      <td>15.5394723269073</td>\n",
       "    </tr>\n",
       "    <tr>\n",
       "      <th>7547</th>\n",
       "      <td>58</td>\n",
       "      <td>151</td>\n",
       "      <td>111</td>\n",
       "      <td>31.8538712257376</td>\n",
       "      <td>201</td>\n",
       "      <td>47.744</td>\n",
       "      <td>13.1507548420675</td>\n",
       "    </tr>\n",
       "    <tr>\n",
       "      <th>7548</th>\n",
       "      <td>63</td>\n",
       "      <td>141</td>\n",
       "      <td>84.2</td>\n",
       "      <td>25.0715776569083</td>\n",
       "      <td>189</td>\n",
       "      <td>64.88</td>\n",
       "      <td>71.4495547027698</td>\n",
       "    </tr>\n",
       "    <tr>\n",
       "      <th>7549</th>\n",
       "      <td>71</td>\n",
       "      <td>162</td>\n",
       "      <td>95.1</td>\n",
       "      <td>26.6766697951351</td>\n",
       "      <td>161</td>\n",
       "      <td>37.272</td>\n",
       "      <td>59.8136551723254</td>\n",
       "    </tr>\n",
       "  </tbody>\n",
       "</table>\n",
       "<p>4910 rows × 7 columns</p>\n",
       "</div>"
      ],
      "text/plain": [
       "      age HE_sbp  HE_wc            HE_BMI HE_chol HE_HDL_st2             N_FAT\n",
       "0      30    104   81.9  28.9398577909837     184     51.552  57.7223486977762\n",
       "2      29    131   85.5  28.6597082714648     191     43.936  100.764834735342\n",
       "3      65    132     71  20.1882379149031     133     30.608  39.5014208507789\n",
       "5      66    116     84  24.1459086723119     148     33.464  28.6307108102753\n",
       "7      15    111   79.3   25.700574777227     182       50.6  25.1141498111477\n",
       "...   ...    ...    ...               ...     ...        ...               ...\n",
       "7545   30    132  103.1  29.5073251417769     181      60.12  20.0093110656924\n",
       "7546   55    122   96.3  28.4453713327845     225     61.072  15.5394723269073\n",
       "7547   58    151    111  31.8538712257376     201     47.744  13.1507548420675\n",
       "7548   63    141   84.2  25.0715776569083     189      64.88  71.4495547027698\n",
       "7549   71    162   95.1  26.6766697951351     161     37.272  59.8136551723254\n",
       "\n",
       "[4910 rows x 7 columns]"
      ]
     },
     "execution_count": 4,
     "metadata": {},
     "output_type": "execute_result"
    }
   ],
   "source": [
    "df=df.dropna()\n",
    "df"
   ]
  },
  {
   "cell_type": "code",
   "execution_count": 5,
   "id": "1a40348c",
   "metadata": {},
   "outputs": [
    {
     "data": {
      "text/plain": [
       "StandardScaler()"
      ]
     },
     "execution_count": 5,
     "metadata": {},
     "output_type": "execute_result"
    }
   ],
   "source": [
    "from sklearn.preprocessing import MinMaxScaler\n",
    "\n",
    "from sklearn.preprocessing import StandardScaler\n",
    "\n",
    "scaler=StandardScaler()\n",
    "scaler.fit(df)\n"
   ]
  },
  {
   "cell_type": "code",
   "execution_count": 6,
   "id": "48cc446f",
   "metadata": {},
   "outputs": [
    {
     "data": {
      "text/plain": [
       "array([[-0.9234382 , -0.78012281,  0.18808397, ..., -0.01036123,\n",
       "         0.02442673,  0.37802027],\n",
       "       [-0.97615518,  0.89631105,  0.53853695, ...,  0.19117552,\n",
       "        -0.62212434,  1.6033877 ],\n",
       "       [ 0.92165592,  0.95840119, -0.87300979, ..., -1.47870038,\n",
       "        -1.75358871, -0.14070747],\n",
       "       ...,\n",
       "       [ 0.55263709,  2.1381139 ,  3.02091226, ...,  0.47908515,\n",
       "        -0.29884881, -0.890879  ],\n",
       "       [ 0.81622197,  1.51721247,  0.41198449, ...,  0.13359359,\n",
       "         1.15589109,  0.76881719],\n",
       "       [ 1.23795777,  2.82110547,  1.47307824, ..., -0.67255339,\n",
       "        -1.18785652,  0.43755723]])"
      ]
     },
     "execution_count": 6,
     "metadata": {},
     "output_type": "execute_result"
    }
   ],
   "source": [
    "scaled_data=scaler.transform(df)\n",
    "\n",
    "scaled_data\n"
   ]
  },
  {
   "cell_type": "code",
   "execution_count": 7,
   "id": "b3f2ee29",
   "metadata": {},
   "outputs": [
    {
     "data": {
      "text/plain": [
       "PCA(n_components=3)"
      ]
     },
     "execution_count": 7,
     "metadata": {},
     "output_type": "execute_result"
    }
   ],
   "source": [
    "from sklearn.decomposition import PCA\n",
    "\n",
    "pca=PCA(n_components=3)\n",
    "\n",
    "pca.fit(scaled_data)\n"
   ]
  },
  {
   "cell_type": "code",
   "execution_count": 8,
   "id": "90cc36e6",
   "metadata": {},
   "outputs": [
    {
     "data": {
      "text/plain": [
       "(4910, 7)"
      ]
     },
     "execution_count": 8,
     "metadata": {},
     "output_type": "execute_result"
    }
   ],
   "source": [
    "x_pca=pca.transform(scaled_data)\n",
    "\n",
    "scaled_data.shape"
   ]
  },
  {
   "cell_type": "code",
   "execution_count": 9,
   "id": "f860702d",
   "metadata": {},
   "outputs": [
    {
     "data": {
      "text/plain": [
       "(4910, 3)"
      ]
     },
     "execution_count": 9,
     "metadata": {},
     "output_type": "execute_result"
    }
   ],
   "source": [
    "x_pca.shape"
   ]
  },
  {
   "cell_type": "code",
   "execution_count": 10,
   "id": "786ac61a",
   "metadata": {},
   "outputs": [
    {
     "data": {
      "text/plain": [
       "array([[ 0.16755471,  1.28100501,  0.80825847],\n",
       "       [ 0.95461436,  1.89309884,  1.08334824],\n",
       "       [-0.04539937,  0.11998183, -2.50913348],\n",
       "       ...,\n",
       "       [ 4.24101458,  0.30795332,  0.42244455],\n",
       "       [ 0.97953401, -0.55182231,  0.87574293],\n",
       "       [ 2.95482148,  0.54578694, -0.92272346]])"
      ]
     },
     "execution_count": 10,
     "metadata": {},
     "output_type": "execute_result"
    }
   ],
   "source": [
    "x_pca"
   ]
  },
  {
   "cell_type": "code",
   "execution_count": 11,
   "id": "b9b3ecf2",
   "metadata": {},
   "outputs": [
    {
     "data": {
      "text/html": [
       "<div>\n",
       "<style scoped>\n",
       "    .dataframe tbody tr th:only-of-type {\n",
       "        vertical-align: middle;\n",
       "    }\n",
       "\n",
       "    .dataframe tbody tr th {\n",
       "        vertical-align: top;\n",
       "    }\n",
       "\n",
       "    .dataframe thead th {\n",
       "        text-align: right;\n",
       "    }\n",
       "</style>\n",
       "<table border=\"1\" class=\"dataframe\">\n",
       "  <thead>\n",
       "    <tr style=\"text-align: right;\">\n",
       "      <th></th>\n",
       "      <th>princ comp1</th>\n",
       "      <th>princ comp2</th>\n",
       "      <th>princ comp3</th>\n",
       "    </tr>\n",
       "  </thead>\n",
       "  <tbody>\n",
       "    <tr>\n",
       "      <th>0</th>\n",
       "      <td>0.167555</td>\n",
       "      <td>1.281005</td>\n",
       "      <td>0.808258</td>\n",
       "    </tr>\n",
       "    <tr>\n",
       "      <th>1</th>\n",
       "      <td>0.954614</td>\n",
       "      <td>1.893099</td>\n",
       "      <td>1.083348</td>\n",
       "    </tr>\n",
       "    <tr>\n",
       "      <th>2</th>\n",
       "      <td>-0.045399</td>\n",
       "      <td>0.119982</td>\n",
       "      <td>-2.509133</td>\n",
       "    </tr>\n",
       "    <tr>\n",
       "      <th>3</th>\n",
       "      <td>0.938765</td>\n",
       "      <td>0.552352</td>\n",
       "      <td>-1.768078</td>\n",
       "    </tr>\n",
       "    <tr>\n",
       "      <th>4</th>\n",
       "      <td>-0.433191</td>\n",
       "      <td>0.726422</td>\n",
       "      <td>0.232167</td>\n",
       "    </tr>\n",
       "    <tr>\n",
       "      <th>...</th>\n",
       "      <td>...</td>\n",
       "      <td>...</td>\n",
       "      <td>...</td>\n",
       "    </tr>\n",
       "    <tr>\n",
       "      <th>4905</th>\n",
       "      <td>2.016301</td>\n",
       "      <td>0.629273</td>\n",
       "      <td>0.833561</td>\n",
       "    </tr>\n",
       "    <tr>\n",
       "      <th>4906</th>\n",
       "      <td>2.044800</td>\n",
       "      <td>-0.620282</td>\n",
       "      <td>1.229860</td>\n",
       "    </tr>\n",
       "    <tr>\n",
       "      <th>4907</th>\n",
       "      <td>4.241015</td>\n",
       "      <td>0.307953</td>\n",
       "      <td>0.422445</td>\n",
       "    </tr>\n",
       "    <tr>\n",
       "      <th>4908</th>\n",
       "      <td>0.979534</td>\n",
       "      <td>-0.551822</td>\n",
       "      <td>0.875743</td>\n",
       "    </tr>\n",
       "    <tr>\n",
       "      <th>4909</th>\n",
       "      <td>2.954821</td>\n",
       "      <td>0.545787</td>\n",
       "      <td>-0.922723</td>\n",
       "    </tr>\n",
       "  </tbody>\n",
       "</table>\n",
       "<p>4910 rows × 3 columns</p>\n",
       "</div>"
      ],
      "text/plain": [
       "      princ comp1  princ comp2  princ comp3\n",
       "0        0.167555     1.281005     0.808258\n",
       "1        0.954614     1.893099     1.083348\n",
       "2       -0.045399     0.119982    -2.509133\n",
       "3        0.938765     0.552352    -1.768078\n",
       "4       -0.433191     0.726422     0.232167\n",
       "...           ...          ...          ...\n",
       "4905     2.016301     0.629273     0.833561\n",
       "4906     2.044800    -0.620282     1.229860\n",
       "4907     4.241015     0.307953     0.422445\n",
       "4908     0.979534    -0.551822     0.875743\n",
       "4909     2.954821     0.545787    -0.922723\n",
       "\n",
       "[4910 rows x 3 columns]"
      ]
     },
     "execution_count": 11,
     "metadata": {},
     "output_type": "execute_result"
    }
   ],
   "source": [
    "principle_df = pd.DataFrame(data = x_pca, columns = ['princ comp1', 'princ comp2', 'princ comp3'])\n",
    "principle_df"
   ]
  },
  {
   "cell_type": "code",
   "execution_count": 12,
   "id": "adcae253",
   "metadata": {},
   "outputs": [
    {
     "name": "stdout",
     "output_type": "stream",
     "text": [
      "Explained variation per principal component: [0.36328792 0.187984   0.1609795 ]\n"
     ]
    }
   ],
   "source": [
    "print('Explained variation per principal component: {}'.format(pca.explained_variance_ratio_))"
   ]
  },
  {
   "cell_type": "code",
   "execution_count": 13,
   "id": "f08f7574",
   "metadata": {},
   "outputs": [],
   "source": [
    "from sklearn.metrics import r2_score\n",
    "from sklearn.metrics import mean_squared_error\n",
    "from math import sqrt\n",
    "import numpy as np\n",
    "\n",
    "# r2 = r2_score(scaled_data, pca)\n",
    "# rmse = sqrt(mean_squared_error(scaled_data, pca))\n",
    "\n",
    "# RMSE normalised by mean:\n",
    "#nrmse = rmse/sqrt(np.mean(df**2))"
   ]
  }
 ],
 "metadata": {
  "kernelspec": {
   "display_name": "Python 3 (ipykernel)",
   "language": "python",
   "name": "python3"
  },
  "language_info": {
   "codemirror_mode": {
    "name": "ipython",
    "version": 3
   },
   "file_extension": ".py",
   "mimetype": "text/x-python",
   "name": "python",
   "nbconvert_exporter": "python",
   "pygments_lexer": "ipython3",
   "version": "3.8.9"
  }
 },
 "nbformat": 4,
 "nbformat_minor": 5
}
